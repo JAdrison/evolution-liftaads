{
  "nbformat": 4,
  "nbformat_minor": 0,
  "metadata": {
    "colab": {
      "provenance": [],
      "authorship_tag": "ABX9TyMJVLLlrfRoMtFEHMr/pFse",
      "include_colab_link": true
    },
    "kernelspec": {
      "name": "python3",
      "display_name": "Python 3"
    },
    "language_info": {
      "name": "python"
    }
  },
  "cells": [
    {
      "cell_type": "markdown",
      "metadata": {
        "id": "view-in-github",
        "colab_type": "text"
      },
      "source": [
        "<a href=\"https://colab.research.google.com/github/JAdrison/evolution-liftaads/blob/main/Agente_In_Python_Google_%2B_Alura.ipynb\" target=\"_parent\"><img src=\"https://colab.research.google.com/assets/colab-badge.svg\" alt=\"Open In Colab\"/></a>"
      ]
    },
    {
      "cell_type": "markdown",
      "source": [
        "# Aula 01 - LLM in python > Gemini + Alura\n"
      ],
      "metadata": {
        "id": "JDacZiUXIndS"
      }
    },
    {
      "cell_type": "markdown",
      "source": [
        "### Download dos app"
      ],
      "metadata": {
        "id": "_RHE2rGlI6lw"
      }
    },
    {
      "cell_type": "code",
      "execution_count": null,
      "metadata": {
        "id": "2ef8BDqJQdat"
      },
      "outputs": [],
      "source": [
        "!pip install -q --upgrade langchain langchain-google-genai google-generativeai"
      ]
    },
    {
      "cell_type": "markdown",
      "source": [
        "### Importação da API Key"
      ],
      "metadata": {
        "id": "2_6oBcyJI_B1"
      }
    },
    {
      "cell_type": "code",
      "source": [
        "from google.colab import userdata\n",
        "from langchain_google_genai import ChatGoogleGenerativeAI\n",
        "\n",
        "Google_Api_Key = userdata.get('GOOGLE_API_KEY')"
      ],
      "metadata": {
        "id": "Bta6AnMvE94H"
      },
      "execution_count": 11,
      "outputs": []
    },
    {
      "cell_type": "markdown",
      "source": [
        "### Conexão com o Gemini"
      ],
      "metadata": {
        "id": "etp4LDNvJFGr"
      }
    },
    {
      "cell_type": "code",
      "source": [
        "llm = ChatGoogleGenerativeAI(\n",
        "    model=\"gemini-2.5-flash\",\n",
        "    temperature=0.0,\n",
        "    api_key=Google_Api_Key\n",
        ")"
      ],
      "metadata": {
        "id": "9LD31F6ZH1rD"
      },
      "execution_count": 28,
      "outputs": []
    },
    {
      "cell_type": "markdown",
      "source": [
        "### Pergunta a LLM + Resposta\n",
        "\n",
        "\n",
        "\n"
      ],
      "metadata": {
        "id": "zARjNGXzLHXn"
      }
    },
    {
      "cell_type": "code",
      "source": [
        "resposta_01_test = llm.invoke(\"Qual a melho comida do Brasil?\")\n",
        "\n",
        "print (resposta_01_test)"
      ],
      "metadata": {
        "colab": {
          "base_uri": "https://localhost:8080/"
        },
        "id": "gRC_7iCxH7xs",
        "outputId": "4762d0e2-c9d1-4735-ad12-d2a09051fafa"
      },
      "execution_count": 29,
      "outputs": [
        {
          "output_type": "stream",
          "name": "stdout",
          "text": [
            "content='Essa é uma pergunta difícil, pois **não existe uma única \"melhor\" comida do Brasil**! A culinária brasileira é incrivelmente rica e diversa, variando muito de região para região, e o que é \"melhor\" depende totalmente do gosto pessoal.\\n\\nNo entanto, posso listar algumas das comidas mais **icônicas, amadas e representativas** do Brasil, que são frequentemente citadas como favoritas:\\n\\n1.  **Feijoada:** Considerada por muitos o prato nacional. É um cozido robusto de feijão preto com diversas carnes de porco (linguiça, costela, carne seca, etc.), servido com arroz branco, farofa, couve refogada e laranja. É um prato de festa, geralmente consumido aos sábados.\\n\\n2.  **Churrasco:** Especialmente forte no Sul do país, mas amado em todo o Brasil. Carnes de alta qualidade assadas na brasa, muitas vezes servidas em espetos, acompanhadas de arroz, farofa, vinagrete e salada.\\n\\n3.  **Moqueca (Capixaba ou Baiana):** Um ensopado de peixe e frutos do mar.\\n    *   **Moqueca Capixaba:** Mais leve, feita com azeite de oliva, urucum, tomate, cebola, coentro e azeite de dendê (opcional, em menor quantidade).\\n    *   **Moqueca Baiana:** Mais encorpada e aromática, com azeite de dendê, leite de coco, pimentões e coentro. Ambas são deliciosas!\\n\\n4.  **Acarajé e Vatapá (Bahia):** Pratos típicos da culinária afro-brasileira da Bahia.\\n    *   **Acarajé:** Bolinho de feijão fradinho frito no azeite de dendê, recheado com vatapá, caruru, camarão seco e vinagrete.\\n    *   **Vatapá:** Creme denso feito de pão ou farinha de rosca, leite de coco, azeite de dendê, camarão seco e temperos.\\n\\n5.  **Pão de Queijo:** Um lanche ou acompanhamento irresistível, especialmente de Minas Gerais, mas popular em todo o país. Pequenos pães feitos com polvilho, queijo e ovos, crocantes por fora e macios por dentro.\\n\\n6.  **Coxinha:** Um dos salgados mais populares do Brasil. Massa de batata ou farinha recheada com frango desfiado (geralmente), moldada em forma de gota e frita.\\n\\n7.  **Brigadeiro:** O doce mais amado e presente em todas as festas de aniversário. Feito de leite condensado, chocolate em pó e manteiga, enrolado em bolinhas e coberto com granulado.\\n\\n**E não podemos esquecer do básico que sustenta a mesa brasileira:**\\n*   **Arroz e Feijão:** A base da alimentação diária de milhões de brasileiros, muitas vezes acompanhado de carne, salada e farofa.\\n\\n**Para realmente descobrir \"a melhor comida do Brasil\", o ideal é experimentar o máximo que puder!** Cada região tem suas especialidades e sabores únicos.' additional_kwargs={} response_metadata={'prompt_feedback': {'block_reason': 0, 'safety_ratings': []}, 'finish_reason': 'STOP', 'safety_ratings': []} id='run--977a5503-eebb-4a05-868c-fcd125f528a2-0' usage_metadata={'input_tokens': 9, 'output_tokens': 714, 'total_tokens': 1640, 'input_token_details': {'cache_read': 0}}\n"
          ]
        }
      ]
    },
    {
      "cell_type": "markdown",
      "source": [
        "### Prompt do Agente"
      ],
      "metadata": {
        "id": "_bl5ztfxN1AJ"
      }
    },
    {
      "cell_type": "code",
      "source": [
        "TRIAGEM_PROMPT = (\n",
        "    \"Você é um triador de Service Desk para políticas internas da empresa Carraro Desenvolvimento. \"\n",
        "    \"Dada a mensagem do usuário, retorne SOMENTE um JSON com:\\n\"\n",
        "    \"{\\n\"\n",
        "    '  \"decisao\": \"AUTO_RESOLVER\" | \"PEDIR_INFO\" | \"ABRIR_CHAMADO\",\\n'\n",
        "    '  \"urgencia\": \"BAIXA\" | \"MEDIA\" | \"ALTA\",\\n'\n",
        "    '  \"campos_faltantes\": [\"...\"]\\n'\n",
        "    \"}\\n\"\n",
        "    \"Regras:\\n\"\n",
        "    '- **AUTO_RESOLVER**: Perguntas claras sobre regras ou procedimentos descritos nas políticas (Ex: \"Posso reembolsar a internet do meu home office?\", \"Como funciona a política de alimentação em viagens?\").\\n'\n",
        "    '- **PEDIR_INFO**: Mensagens vagas ou que faltam informações para identificar o tema ou contexto (Ex: \"Preciso de ajuda com uma política\", \"Tenho uma dúvida geral\").\\n'\n",
        "    '- **ABRIR_CHAMADO**: Pedidos de exceção, liberação, aprovação ou acesso especial, ou quando o usuário explicitamente pede para abrir um chamado (Ex: \"Quero exceção para trabalhar 5 dias remoto.\", \"Solicito liberação para anexos externos.\", \"Por favor, abra um chamado para o RH.\").'\n",
        "    \"Analise a mensagem e decida a ação mais apropriada.\"\n",
        ")"
      ],
      "metadata": {
        "id": "KXZTn4SEN5MI"
      },
      "execution_count": 32,
      "outputs": []
    },
    {
      "cell_type": "code",
      "source": [
        "from pydantic import BaseModel, Field\n",
        "from typing import Literal, List, Dict\n",
        "\n",
        "class TriagemOut(BaseModel):\n",
        "    decisao: Literal[\"AUTO_RESOLVER\", \"PEDIR_INFO\", \"ABRIR_CHAMADO\"]\n",
        "    urgencia: Literal[\"BAIXA\", \"MEDIA\", \"ALTA\"]\n",
        "    campos_faltantes: List[str] = Field(default_factory=list)"
      ],
      "metadata": {
        "id": "NeoYmm6hN8XH"
      },
      "execution_count": 36,
      "outputs": []
    },
    {
      "cell_type": "markdown",
      "source": [
        "### LLM ESPECIALISTA EM TRIAGEM (NOVA LLM )"
      ],
      "metadata": {
        "id": "1tKqnB_4PtDu"
      }
    },
    {
      "cell_type": "code",
      "source": [
        "llm_triagem = ChatGoogleGenerativeAI(\n",
        "    model=\"gemini-2.5-flash\",\n",
        "    temperature=0.0,\n",
        "    api_key=Google_Api_Key\n",
        ")"
      ],
      "metadata": {
        "id": "QWB4tW9VP0ZQ"
      },
      "execution_count": 38,
      "outputs": []
    },
    {
      "cell_type": "code",
      "source": [
        "from langchain_core.messages import SystemMessage, HumanMessage\n",
        "\n",
        "triagem_chain = llm_triagem.with_structured_output(TriagemOut)\n",
        "\n",
        "def triagem(mensagem: str) -> Dict:\n",
        "    saida: TriagemOut = triagem_chain.invoke([\n",
        "        SystemMessage(content=TRIAGEM_PROMPT),\n",
        "        HumanMessage(content=mensagem)\n",
        "    ])\n",
        "\n",
        "    return saida.model_dump()"
      ],
      "metadata": {
        "id": "ZegSmbjMQa4y"
      },
      "execution_count": 39,
      "outputs": []
    },
    {
      "cell_type": "markdown",
      "source": [
        "### Perguntas"
      ],
      "metadata": {
        "id": "5SeAFdvCSIve"
      }
    },
    {
      "cell_type": "code",
      "source": [
        "testes = [\"Posso reembolsar a internet?\",\n",
        "          \"Quero mais 5 dias de trabalho remoto. Como faço?\",\n",
        "          \"Posso reembolsar cursos ou treinamentos da Alura?\",\n",
        "          \"Quantas capivaras tem no Rio Pinheiros?\"]"
      ],
      "metadata": {
        "id": "EA_Vu-bmSMP6"
      },
      "execution_count": 40,
      "outputs": []
    },
    {
      "cell_type": "markdown",
      "source": [
        "### Resposta"
      ],
      "metadata": {
        "id": "u2Fy17rhSNvz"
      }
    },
    {
      "cell_type": "code",
      "source": [
        "for msg_teste in testes:\n",
        "    print(f\"Pergunta: {msg_teste}\\n -> Resposta: {triagem(msg_teste)}\\n\")"
      ],
      "metadata": {
        "colab": {
          "base_uri": "https://localhost:8080/"
        },
        "id": "I8wGddkTSPoW",
        "outputId": "da0e9046-09b6-4121-8baf-34358dab554b"
      },
      "execution_count": 41,
      "outputs": [
        {
          "output_type": "stream",
          "name": "stdout",
          "text": [
            "Pergunta: Posso reembolsar a internet?\n",
            " -> Resposta: {'decisao': 'AUTO_RESOLVER', 'urgencia': 'BAIXA', 'campos_faltantes': []}\n",
            "\n",
            "Pergunta: Quero mais 5 dias de trabalho remoto. Como faço?\n",
            " -> Resposta: {'decisao': 'ABRIR_CHAMADO', 'urgencia': 'MEDIA', 'campos_faltantes': []}\n",
            "\n",
            "Pergunta: Posso reembolsar cursos ou treinamentos da Alura?\n",
            " -> Resposta: {'decisao': 'AUTO_RESOLVER', 'urgencia': 'BAIXA', 'campos_faltantes': []}\n",
            "\n",
            "Pergunta: Quantas capivaras tem no Rio Pinheiros?\n",
            " -> Resposta: {'decisao': 'PEDIR_INFO', 'urgencia': 'BAIXA', 'campos_faltantes': ['informação sobre a política interna']}\n",
            "\n"
          ]
        }
      ]
    }
  ]
}